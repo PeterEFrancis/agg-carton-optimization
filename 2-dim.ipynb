{
 "cells": [
  {
   "cell_type": "code",
   "execution_count": 2,
   "metadata": {},
   "outputs": [],
   "source": [
    "import numpy as np\n",
    "import itertools as it\n",
    "import functools"
   ]
  },
  {
   "cell_type": "code",
   "execution_count": 92,
   "metadata": {},
   "outputs": [],
   "source": [
    "def np_hash(arr):\n",
    "    m = len(arr)\n",
    "    n = len(arr[0])\n",
    "    arr_num = sum(arr[i][j] * 2 ** (i * n + j) for i in range(m) for j in range(n))\n",
    "    return (m, n, arr_num)\n",
    "\n",
    "def np_dehash(hsh):\n",
    "    m, n, arr_num = hsh\n",
    "    return np.array([[(arr_num >> (i * n + j)) % 2 for j in range(n)] for i in range(m)])"
   ]
  },
  {
   "cell_type": "code",
   "execution_count": 70,
   "metadata": {},
   "outputs": [],
   "source": [
    "def com_calc(cart):\n",
    "    if 1 not in cart:\n",
    "        return np.zeros(cart.shape)\n",
    "    com = np.zeros(len(cart.shape))\n",
    "    for coord in it.product(*[range(d) for d in cart.shape]):\n",
    "        com += np.array([el for el in coord]) * cart[coord]\n",
    "    return com / cart.sum()\n",
    "\n",
    "@functools.lru_cache(maxsize=None)\n",
    "def find_com(hsh):\n",
    "    cart = np_dehash(hsh)\n",
    "    return com_calc(cart)"
   ]
  },
  {
   "cell_type": "code",
   "execution_count": 102,
   "metadata": {},
   "outputs": [],
   "source": [
    "def norm(vec):\n",
    "    return sum(el**2 for el in vec) ** (1 / 2)\n",
    "\n",
    "def center(shape):\n",
    "    return np.array([(el - 1)/2 for el in shape])\n",
    "\n",
    "def calc_com_diff_int(base, com_list):\n",
    "    return sum(norm(base - com) for com in com_list)"
   ]
  },
  {
   "cell_type": "code",
   "execution_count": 125,
   "metadata": {},
   "outputs": [],
   "source": [
    "def find_min_diff_order(m, n):\n",
    "    cntr = center((m, n))\n",
    "    min_order = []\n",
    "    min_diff = np.inf\n",
    "    I = 1\n",
    "    for order_template in it.permutations(range(1, m * n + 1)):\n",
    "        I += 1\n",
    "        cart = np.ones((m, n), dtype=np.int)\n",
    "        com_list = []\n",
    "        for i in range(1, m * n):\n",
    "            r, c = divmod(order_template.index(i), n)\n",
    "            cart[r][c] = 0\n",
    "            com = find_com(np_hash(cart))\n",
    "            com_list.append(com)\n",
    "        diff = calc_com_diff_int(cntr, com_list)\n",
    "        if diff < min_diff:\n",
    "            min_diff = diff\n",
    "            min_order = [order_template]\n",
    "            print(order_template, end=\"\\r\")\n",
    "        elif diff == min_diff:\n",
    "            min_order.append(order_template)\n",
    "    return min_diff, min_order"
   ]
  },
  {
   "cell_type": "code",
   "execution_count": 126,
   "metadata": {},
   "outputs": [],
   "source": [
    "def disp(order_template, m, n):\n",
    "    for i in range(0, m * n, n):\n",
    "        print(*order_template[i: i + n])"
   ]
  },
  {
   "cell_type": "code",
   "execution_count": null,
   "metadata": {},
   "outputs": [
    {
     "name": "stdout",
     "output_type": "stream",
     "text": [
      "(1, 5, 9, 11, 7, 3, 4, 8, 12, 10, 6, 2)\r"
     ]
    }
   ],
   "source": [
    "a = find_min_diff_order(2, 6)"
   ]
  },
  {
   "cell_type": "code",
   "execution_count": null,
   "metadata": {},
   "outputs": [],
   "source": [
    "disp(a[1][0], 2, 6)"
   ]
  },
  {
   "cell_type": "raw",
   "metadata": {},
   "source": [
    "1 5 9  11 7 3\n",
    "4 8 12 10 6 2"
   ]
  }
 ],
 "metadata": {
  "kernelspec": {
   "display_name": "Python 3",
   "language": "python",
   "name": "python3"
  },
  "language_info": {
   "codemirror_mode": {
    "name": "ipython",
    "version": 3
   },
   "file_extension": ".py",
   "mimetype": "text/x-python",
   "name": "python",
   "nbconvert_exporter": "python",
   "pygments_lexer": "ipython3",
   "version": "3.7.4"
  }
 },
 "nbformat": 4,
 "nbformat_minor": 4
}
