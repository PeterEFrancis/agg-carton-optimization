{
 "cells": [
  {
   "cell_type": "code",
   "execution_count": 26,
   "metadata": {},
   "outputs": [],
   "source": [
    "import numpy as np\n",
    "import itertools as it\n",
    "import functools"
   ]
  },
  {
   "cell_type": "code",
   "execution_count": 27,
   "metadata": {},
   "outputs": [],
   "source": [
    "def norm_2(vec):\n",
    "    return sum(el**2 for el in vec)"
   ]
  },
  {
   "cell_type": "code",
   "execution_count": 28,
   "metadata": {},
   "outputs": [],
   "source": [
    "def get_order(order_template, m, n):\n",
    "    return np.array(order_template).reshape((m, n))\n",
    "\n",
    "def get_order_template(order):\n",
    "    return tuple(order.flatten().data)\n",
    "\n",
    "def find(arr, num):\n",
    "    return tuple(el[0] for el in np.where(arr == num))\n",
    "\n",
    "def swap_cols(arr, i, j):\n",
    "    arr[:, [i, j]] = arr[:, [j, i]]\n",
    "    \n",
    "def swap_rows(arr, i, j):\n",
    "    arr[[i, j], :] = arr[[j, i], :]\n",
    "\n",
    "def get_min_rep(order):\n",
    "    cpy = order.copy()\n",
    "    # move 1 into first coordinate\n",
    "    i, j = find(cpy, 1)\n",
    "    swap_rows(cpy, 0, i)\n",
    "    swap_cols(cpy, 0, j)\n",
    "    # sort rest of columns by the first row\n",
    "    cpy = cpy[:, np.argsort(cpy[0])]\n",
    "    # sort rest of the rows by the first entry\n",
    "    return cpy[np.argsort(cpy[:,0])]"
   ]
  },
  {
   "cell_type": "code",
   "execution_count": 29,
   "metadata": {},
   "outputs": [],
   "source": [
    "def np_hash(arr):\n",
    "    m = len(arr)\n",
    "    n = len(arr[0])\n",
    "    arr_num = sum(arr[i][j] * 2 ** (i * n + j) for i in range(m) for j in range(n))\n",
    "    return (m, n, arr_num)\n",
    "\n",
    "def np_dehash(hsh):\n",
    "    m, n, arr_num = hsh\n",
    "    return np.array([[(arr_num >> (i * n + j)) % 2 for j in range(n)] for i in range(m)])"
   ]
  },
  {
   "cell_type": "code",
   "execution_count": 30,
   "metadata": {},
   "outputs": [],
   "source": [
    "def Q_calc(cart):\n",
    "    c = cart.sum()\n",
    "    m = len(cart)\n",
    "    n = len(cart[0])\n",
    "    v = np.array([sum(cart[i]) / c for i in range(m)])\n",
    "    h = np.array([sum(cart.T[i]) / c for i in range(n)])\n",
    "    return (norm_2(v - np.ones(m) / m) * m + norm_2(h - np.ones(n) / n) * n) / (m + n)\n",
    "\n",
    "@functools.lru_cache(maxsize=None)\n",
    "def Q(hsh):\n",
    "    cart = np_dehash(hsh)\n",
    "    return Q_calc(cart)"
   ]
  },
  {
   "cell_type": "code",
   "execution_count": 31,
   "metadata": {},
   "outputs": [],
   "source": [
    "def get_Q_list(order_template, m, n):\n",
    "    Q_list = []\n",
    "    cart = np.ones((m, n), dtype=np.int)\n",
    "    for i in range(1, m * n):\n",
    "        r, c = divmod(order_template.index(i), n)\n",
    "        cart[r][c] = 0\n",
    "        Q_list.append(Q(np_hash(cart)))\n",
    "    return Q_list"
   ]
  },
  {
   "cell_type": "code",
   "execution_count": 32,
   "metadata": {},
   "outputs": [],
   "source": [
    "def get_min_order_reps(m, n):\n",
    "    past = None\n",
    "    for perm in it.permutations(range(1, m * n + 1)):\n",
    "        if past is None or past < get_order_template(get_min_rep(get_order(perm, m, n))):\n",
    "            past = perm\n",
    "            yield perm\n",
    "    return None"
   ]
  },
  {
   "cell_type": "code",
   "execution_count": 33,
   "metadata": {},
   "outputs": [],
   "source": [
    "def get_equiv_reps(m, n):\n",
    "    ret = np.zeros(m * n, dtype=np.int).reshape(m, n)\n",
    "    ret[0][0] = 1\n",
    "    for comb in it.combinations(range(2, m * n + 1), n - 1):\n",
    "        nums = list(range(2, m * n + 1))\n",
    "        ret[0,1:n] = comb\n",
    "        for el in comb:\n",
    "            nums.remove(el)\n",
    "        for comb2 in it.combinations(nums, m - 1):\n",
    "            nums2 = nums.copy()\n",
    "            for el in comb2:\n",
    "                nums2.remove(el)\n",
    "            ret[1:,0] = comb2\n",
    "            for rest in it.permutations(nums2):\n",
    "                ret[1:,1:] = np.array(rest).reshape(m - 1, n - 1)\n",
    "                yield tuple(ret.flatten().data)\n",
    "    return None"
   ]
  },
  {
   "cell_type": "code",
   "execution_count": 34,
   "metadata": {},
   "outputs": [],
   "source": [
    "def find_min_Q_sum(m, n, start=np.inf):\n",
    "    min_orders = []\n",
    "    min_Q_sum = start\n",
    "    for order_template in get_equiv_reps(m, n):\n",
    "        Q_sum = 0\n",
    "        cart = np.ones((m, n), dtype=np.int)\n",
    "        for i in range(1, m * n):\n",
    "            r, c = divmod(order_template.index(i), n)\n",
    "            cart[r][c] = 0\n",
    "            Q_sum += Q(np_hash(cart))\n",
    "            if Q_sum > min_Q_sum:\n",
    "                break\n",
    "        else:\n",
    "            if Q_sum < min_Q_sum:\n",
    "                min_Q_sum = Q_sum\n",
    "                min_orders = [order_template]\n",
    "                print(order_template, min_Q_sum, end=\"\\r\")\n",
    "            elif Q_sum == min_Q_sum:\n",
    "                min_orders.append(order_template)\n",
    "    return min_Q_sum, min_orders, len(min_orders)"
   ]
  },
  {
   "cell_type": "code",
   "execution_count": 10,
   "metadata": {},
   "outputs": [
    {
     "data": {
      "text/plain": [
       "1.2939504572107388"
      ]
     },
     "execution_count": 10,
     "metadata": {},
     "output_type": "execute_result"
    }
   ],
   "source": [
    "sum(get_Q_list((1, 3, 5, 7, 9, 11, 8, 10, 12, 2, 4, 6), 2, 6))"
   ]
  },
  {
   "cell_type": "raw",
   "metadata": {},
   "source": [
    "(1, 4, 7, \n",
    " 5, 9, 2, \n",
    " 8, 3, 6)"
   ]
  },
  {
   "cell_type": "code",
   "execution_count": null,
   "metadata": {},
   "outputs": [
    {
     "name": "stdout",
     "output_type": "stream",
     "text": [
      "(1, 2, 3, 4, 5, 8, 11, 14, 9, 12, 15, 6, 13, 16, 7, 10) 1.5955967260668809 1.9765665862331696\r"
     ]
    }
   ],
   "source": [
    "find_min_Q_sum(4, 4)"
   ]
  },
  {
   "cell_type": "raw",
   "metadata": {},
   "source": [
    "1 3\n",
    "4 2\n",
    "\n",
    "1 4\n",
    "3 2\n",
    "\n",
    "\n",
    "1 3 5\n",
    "4 6 2\n",
    "\n",
    "\n",
    "1 3 5 7\n",
    "6 8 2 4\n",
    "\n",
    "\n",
    "1 3 5  7 9\n",
    "6 8 10 2 4\n",
    "\n",
    "\n",
    "1 3  5  7 9 11\n",
    "8 10 12 2 4 6"
   ]
  },
  {
   "cell_type": "code",
   "execution_count": null,
   "metadata": {},
   "outputs": [],
   "source": []
  }
 ],
 "metadata": {
  "kernelspec": {
   "display_name": "Python 3",
   "language": "python",
   "name": "python3"
  },
  "language_info": {
   "codemirror_mode": {
    "name": "ipython",
    "version": 3
   },
   "file_extension": ".py",
   "mimetype": "text/x-python",
   "name": "python",
   "nbconvert_exporter": "python",
   "pygments_lexer": "ipython3",
   "version": "3.7.4"
  }
 },
 "nbformat": 4,
 "nbformat_minor": 4
}
