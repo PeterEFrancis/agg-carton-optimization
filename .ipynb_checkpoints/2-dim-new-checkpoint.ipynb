{
 "cells": [
  {
   "cell_type": "code",
   "execution_count": 12,
   "metadata": {},
   "outputs": [],
   "source": [
    "import numpy as np\n",
    "import itertools as it\n",
    "import functools"
   ]
  },
  {
   "cell_type": "code",
   "execution_count": 31,
   "metadata": {},
   "outputs": [],
   "source": [
    "def norm_2(vec):\n",
    "    return sum(el**2 for el in vec)"
   ]
  },
  {
   "cell_type": "code",
   "execution_count": 13,
   "metadata": {},
   "outputs": [],
   "source": [
    "def np_hash(arr):\n",
    "    m = len(arr)\n",
    "    n = len(arr[0])\n",
    "    arr_num = sum(arr[i][j] * 2 ** (i * n + j) for i in range(m) for j in range(n))\n",
    "    return (m, n, arr_num)\n",
    "\n",
    "def np_dehash(hsh):\n",
    "    m, n, arr_num = hsh\n",
    "    return np.array([[(arr_num >> (i * n + j)) % 2 for j in range(n)] for i in range(m)])"
   ]
  },
  {
   "cell_type": "code",
   "execution_count": 41,
   "metadata": {},
   "outputs": [],
   "source": [
    "def Q_calc(cart):\n",
    "    c = cart.sum()\n",
    "    m = len(cart)\n",
    "    n = len(cart[0])\n",
    "    v = np.array([sum(cart[i]) / c for i in range(m)])\n",
    "    h = np.array([sum(cart.T[i]) / c for i in range(n)])\n",
    "    return (norm_2(v - np.ones(m) / m) * (m / (n + m)) + norm_2(h - np.ones(n) / n) * (n / (n + m))) ** (1/2)\n",
    "\n",
    "@functools.lru_cache(maxsize=None)\n",
    "def Q(hsh):\n",
    "    cart = np_dehash(hsh)\n",
    "    return Q_calc(cart)"
   ]
  },
  {
   "cell_type": "code",
   "execution_count": 42,
   "metadata": {},
   "outputs": [],
   "source": [
    "def get_Q_list(order_template, m, n):\n",
    "    Q_list = []\n",
    "    cart = np.ones((m, n), dtype=np.int)\n",
    "    for i in range(1, m * n):\n",
    "        r, c = divmod(order_template.index(i), n)\n",
    "        cart[r][c] = 0\n",
    "        Q_list.append(Q(np_hash(cart)))\n",
    "    return Q_list"
   ]
  },
  {
   "cell_type": "code",
   "execution_count": 46,
   "metadata": {},
   "outputs": [],
   "source": [
    "def find_min_Q_sum(m, n):\n",
    "    min_orders = []\n",
    "    min_Q_sum = np.inf\n",
    "    for order_template in it.permutations(range(1, m * n + 1)):\n",
    "        Q_sum = sum(get_Q_list(order_template, m , n))\n",
    "        if Q_sum < min_Q_sum:\n",
    "            min_Q_sum = Q_sum\n",
    "            min_orders = [order_template]\n",
    "            print(order_template, min_Q_sum, end=\"\\r\")\n",
    "        elif Q_sum == min_Q_sum:\n",
    "            min_orders.append(order_template)\n",
    "    return min_Q_sum, min_orders"
   ]
  },
  {
   "cell_type": "code",
   "execution_count": null,
   "metadata": {},
   "outputs": [
    {
     "name": "stdout",
     "output_type": "stream",
     "text": [
      "(1, 3, 5, 7, 9, 6, 8, 10, 2, 4) 2.3844516103562077 2.7495612391914914\r"
     ]
    }
   ],
   "source": [
    "find_min_Q_sum(2, 5)"
   ]
  },
  {
   "cell_type": "raw",
   "metadata": {},
   "source": [
    "1 3\n",
    "4 2\n",
    "\n",
    "\n",
    "1 3 5\n",
    "4 6 2\n",
    "\n",
    "\n",
    "1 3 5 7\n",
    "6 8 2 4\n",
    "\n",
    "\n",
    "1 3 5  7 9\n",
    "6 8 10 2 4\n",
    "\n",
    "\n",
    "1 3  5  7 9 11\n",
    "8 10 12 2 4 6\n",
    "\n",
    "\n"
   ]
  }
 ],
 "metadata": {
  "kernelspec": {
   "display_name": "Python 3",
   "language": "python",
   "name": "python3"
  },
  "language_info": {
   "codemirror_mode": {
    "name": "ipython",
    "version": 3
   },
   "file_extension": ".py",
   "mimetype": "text/x-python",
   "name": "python",
   "nbconvert_exporter": "python",
   "pygments_lexer": "ipython3",
   "version": "3.7.4"
  }
 },
 "nbformat": 4,
 "nbformat_minor": 4
}
